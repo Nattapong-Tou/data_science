{
 "cells": [
  {
   "cell_type": "code",
   "execution_count": 1,
   "metadata": {},
   "outputs": [
    {
     "data": {
      "text/plain": [
       "\"\\ndf = pd.DataFrame(data)\\n\\n#กำหนด style แบบ highlight ข้มมูลที่น้อยสุดในแต่ล่ะคอลัมน์\\ndf.style.highlight_min(color='cyan')\\n\""
      ]
     },
     "execution_count": 1,
     "metadata": {},
     "output_type": "execute_result"
    }
   ],
   "source": [
    "import pandas as pd\n",
    "import numpy as np\n",
    "\n",
    "data = {'ONE' : np.random.randint(1, 10, 10),\n",
    "    'TWO' : np.random.randint(-5, 10, 10),\n",
    "    'THREE' : np.random.randint(- 100, 1000, 10),\n",
    "    'FOUR' : np.random.randint(100, 1000, 10)\n",
    "}\n",
    "'''\n",
    "df = pd.DataFrame(data)\n",
    "\n",
    "#กำหนด style แบบ highlight ข้มมูลที่น้อยสุดในแต่ล่ะคอลัมน์\n",
    "df.style.highlight_min(color='cyan')\n",
    "'''"
   ]
  },
  {
   "cell_type": "code",
   "execution_count": null,
   "metadata": {},
   "outputs": [],
   "source": [
    "data2 = {'ONE' : np.random.randint(1, 10, 5),\n",
    "    'TWO' : np.random.randint(10, 100, 5),\n",
    "    'THREE' : np.random.randint(100, 1000, 5)\n",
    "}\n",
    "\n",
    "df2 = pd.DataFrame(data2)\n",
    "\n",
    "#กำหนด style แบบ highlight ข้มมูลที่มากสุดในแต่ล่ะคอลัมน์\n",
    "df2.style.highlight_max(color='limegreen')"
   ]
  },
  {
   "cell_type": "code",
   "execution_count": null,
   "metadata": {},
   "outputs": [],
   "source": [
    "#แสดงทั้งมากสุดและน้อยสุดพร้อมกัน\n",
    "display (\n",
    "    df.style.highlight_max(color='Aqua'), #มากสุดในแต่ล่ะคอลัมน์\n",
    "    df.style.highlight_min(color='BurlyWood') #น้อยสุดในแต่ล่ะคอลัมน์\n",
    ")"
   ]
  },
  {
   "cell_type": "code",
   "execution_count": null,
   "metadata": {},
   "outputs": [],
   "source": [
    "# 6 Apr 2021\n",
    "# การกำหนดสไตล์ในแถวและคอลัมน์\n",
    "display(\n",
    "    df.style.highlight_max(color='red', axis=0, subset=['TWO', 'THREE']),\n",
    "    #กำหนดสไตล์ของแถวที่ 2 ถึง 4 และ คอลัมน์ one, two, three\n",
    "    df.style.highlight_max(color='orange', subset=pd.IndexSlice[2:4, ['ONE', 'TWO', 'THREE']]),\n",
    "    #กำหนดสไตล์ของแถวที่ 2 ถึง 4\n",
    "    df.style.highlight_max(color='orange', subset=pd.IndexSlice[2:4])\n",
    ")"
   ]
  },
  {
   "cell_type": "code",
   "execution_count": null,
   "metadata": {},
   "outputs": [],
   "source": [
    "#7 Apr 2021\n",
    "#การกำหนดรูปแบบของตัวเลข\n",
    "\n",
    "#ข้อมูลตัวเลขจำนวนเต็ม\n",
    "data_int = {\n",
    "    'A' : np.random.randint(1000, 1000000, 5),\n",
    "    'B' : np.random.randint(1000, 1000000, 5),\n",
    "    'C' : np.random.randint(1000, 1000000, 5)\n",
    "}\n",
    "\n",
    "#ข้อมูลตัวเลขทศนิยม\n",
    "data_dec = {\n",
    "    'A' : np.random.choice([1233.345, 63333.78, 3.22, 0.233, 5.55], 5),\n",
    "    'B' : np.random.choice([-3.15468, 8.98766, 45.55, 3.1009], 5)\n",
    "}\n",
    "\n",
    "df_int = pd.DataFrame(data_format) #dataframe ของ Integer\n",
    "df_dec = pd.DataFrame(data_dec) #dataframe ของ Decimal\n",
    "\n",
    "display(\n",
    "    df_int.style.format('{:,}'), #จัด format โดยเพิ่มคอมม่าหลังหลักพัน\n",
    "    df_dec.style.format('{:,.2f}') #จัด format โดยเพิ่มคอมม่าหลังหลักพัน และ เอาแค่ทศนิยมสองตำแหน่ง\n",
    "\n",
    ")\n"
   ]
  },
  {
   "cell_type": "code",
   "execution_count": 4,
   "metadata": {},
   "outputs": [
    {
     "data": {
      "text/html": [
       "<style  type=\"text/css\" >\n",
       "#T_93452_row0_col0,#T_93452_row0_col1,#T_93452_row0_col2,#T_93452_row0_col3,#T_93452_row1_col0,#T_93452_row1_col3,#T_93452_row2_col0,#T_93452_row3_col0,#T_93452_row3_col1,#T_93452_row3_col2,#T_93452_row4_col0,#T_93452_row5_col2,#T_93452_row6_col0,#T_93452_row6_col1,#T_93452_row7_col1,#T_93452_row7_col3,#T_93452_row8_col0,#T_93452_row8_col1,#T_93452_row8_col2,#T_93452_row9_col0,#T_93452_row9_col1,#T_93452_row9_col3{\n",
       "            backgroud-color:  #ffc;\n",
       "        }#T_93452_row1_col1,#T_93452_row1_col2,#T_93452_row2_col1,#T_93452_row2_col2,#T_93452_row2_col3,#T_93452_row3_col3,#T_93452_row4_col1,#T_93452_row4_col2,#T_93452_row4_col3,#T_93452_row5_col0,#T_93452_row5_col1,#T_93452_row5_col3,#T_93452_row6_col2,#T_93452_row6_col3,#T_93452_row7_col0,#T_93452_row7_col2,#T_93452_row8_col3,#T_93452_row9_col2{\n",
       "            backgroud-color:  inherit;\n",
       "        }</style><table id=\"T_93452_\" ><caption>Test Random Number</caption><thead>    <tr>        <th class=\"blank level0\" ></th>        <th class=\"col_heading level0 col0\" >one</th>        <th class=\"col_heading level0 col1\" >two</th>        <th class=\"col_heading level0 col2\" >three</th>        <th class=\"col_heading level0 col3\" >four</th>    </tr></thead><tbody>\n",
       "                <tr>\n",
       "                        <th id=\"T_93452_level0_row0\" class=\"row_heading level0 row0\" >0</th>\n",
       "                        <td id=\"T_93452_row0_col0\" class=\"data row0 col0\" >-4</td>\n",
       "                        <td id=\"T_93452_row0_col1\" class=\"data row0 col1\" >-3</td>\n",
       "                        <td id=\"T_93452_row0_col2\" class=\"data row0 col2\" >-3</td>\n",
       "                        <td id=\"T_93452_row0_col3\" class=\"data row0 col3\" >-4</td>\n",
       "            </tr>\n",
       "            <tr>\n",
       "                        <th id=\"T_93452_level0_row1\" class=\"row_heading level0 row1\" >1</th>\n",
       "                        <td id=\"T_93452_row1_col0\" class=\"data row1 col0\" >-3</td>\n",
       "                        <td id=\"T_93452_row1_col1\" class=\"data row1 col1\" >7</td>\n",
       "                        <td id=\"T_93452_row1_col2\" class=\"data row1 col2\" >8</td>\n",
       "                        <td id=\"T_93452_row1_col3\" class=\"data row1 col3\" >-4</td>\n",
       "            </tr>\n",
       "            <tr>\n",
       "                        <th id=\"T_93452_level0_row2\" class=\"row_heading level0 row2\" >2</th>\n",
       "                        <td id=\"T_93452_row2_col0\" class=\"data row2 col0\" >-1</td>\n",
       "                        <td id=\"T_93452_row2_col1\" class=\"data row2 col1\" >4</td>\n",
       "                        <td id=\"T_93452_row2_col2\" class=\"data row2 col2\" >8</td>\n",
       "                        <td id=\"T_93452_row2_col3\" class=\"data row2 col3\" >8</td>\n",
       "            </tr>\n",
       "            <tr>\n",
       "                        <th id=\"T_93452_level0_row3\" class=\"row_heading level0 row3\" >3</th>\n",
       "                        <td id=\"T_93452_row3_col0\" class=\"data row3 col0\" >-4</td>\n",
       "                        <td id=\"T_93452_row3_col1\" class=\"data row3 col1\" >-4</td>\n",
       "                        <td id=\"T_93452_row3_col2\" class=\"data row3 col2\" >-2</td>\n",
       "                        <td id=\"T_93452_row3_col3\" class=\"data row3 col3\" >6</td>\n",
       "            </tr>\n",
       "            <tr>\n",
       "                        <th id=\"T_93452_level0_row4\" class=\"row_heading level0 row4\" >4</th>\n",
       "                        <td id=\"T_93452_row4_col0\" class=\"data row4 col0\" >-3</td>\n",
       "                        <td id=\"T_93452_row4_col1\" class=\"data row4 col1\" >6</td>\n",
       "                        <td id=\"T_93452_row4_col2\" class=\"data row4 col2\" >4</td>\n",
       "                        <td id=\"T_93452_row4_col3\" class=\"data row4 col3\" >0</td>\n",
       "            </tr>\n",
       "            <tr>\n",
       "                        <th id=\"T_93452_level0_row5\" class=\"row_heading level0 row5\" >5</th>\n",
       "                        <td id=\"T_93452_row5_col0\" class=\"data row5 col0\" >0</td>\n",
       "                        <td id=\"T_93452_row5_col1\" class=\"data row5 col1\" >4</td>\n",
       "                        <td id=\"T_93452_row5_col2\" class=\"data row5 col2\" >-5</td>\n",
       "                        <td id=\"T_93452_row5_col3\" class=\"data row5 col3\" >2</td>\n",
       "            </tr>\n",
       "            <tr>\n",
       "                        <th id=\"T_93452_level0_row6\" class=\"row_heading level0 row6\" >6</th>\n",
       "                        <td id=\"T_93452_row6_col0\" class=\"data row6 col0\" >-1</td>\n",
       "                        <td id=\"T_93452_row6_col1\" class=\"data row6 col1\" >-5</td>\n",
       "                        <td id=\"T_93452_row6_col2\" class=\"data row6 col2\" >0</td>\n",
       "                        <td id=\"T_93452_row6_col3\" class=\"data row6 col3\" >8</td>\n",
       "            </tr>\n",
       "            <tr>\n",
       "                        <th id=\"T_93452_level0_row7\" class=\"row_heading level0 row7\" >7</th>\n",
       "                        <td id=\"T_93452_row7_col0\" class=\"data row7 col0\" >9</td>\n",
       "                        <td id=\"T_93452_row7_col1\" class=\"data row7 col1\" >-1</td>\n",
       "                        <td id=\"T_93452_row7_col2\" class=\"data row7 col2\" >6</td>\n",
       "                        <td id=\"T_93452_row7_col3\" class=\"data row7 col3\" >-2</td>\n",
       "            </tr>\n",
       "            <tr>\n",
       "                        <th id=\"T_93452_level0_row8\" class=\"row_heading level0 row8\" >8</th>\n",
       "                        <td id=\"T_93452_row8_col0\" class=\"data row8 col0\" >-3</td>\n",
       "                        <td id=\"T_93452_row8_col1\" class=\"data row8 col1\" >-3</td>\n",
       "                        <td id=\"T_93452_row8_col2\" class=\"data row8 col2\" >-4</td>\n",
       "                        <td id=\"T_93452_row8_col3\" class=\"data row8 col3\" >7</td>\n",
       "            </tr>\n",
       "            <tr>\n",
       "                        <th id=\"T_93452_level0_row9\" class=\"row_heading level0 row9\" >9</th>\n",
       "                        <td id=\"T_93452_row9_col0\" class=\"data row9 col0\" >-1</td>\n",
       "                        <td id=\"T_93452_row9_col1\" class=\"data row9 col1\" >-4</td>\n",
       "                        <td id=\"T_93452_row9_col2\" class=\"data row9 col2\" >0</td>\n",
       "                        <td id=\"T_93452_row9_col3\" class=\"data row9 col3\" >-3</td>\n",
       "            </tr>\n",
       "    </tbody></table>"
      ],
      "text/plain": [
       "<pandas.io.formats.style.Styler at 0x7f9da50ad760>"
      ]
     },
     "metadata": {},
     "output_type": "display_data"
    }
   ],
   "source": [
    "#การกำหนด style ด้วย function ที่สร้างเอง\n",
    "\n",
    "def negative_bg(df_color):\n",
    "    bg = '#ffc' if df_color < 0 else 'inherit' #inherit คือการใช้รูปแบบเดิม\n",
    "    return f'backgroud-color: {bg}'\n",
    "\n",
    "data_color = {\n",
    "    'one' : np.random.randint(-5, 10, 10),\n",
    "    'two' : np.random.randint(-5, 10, 10),\n",
    "    'three' : np.random.randint(-5, 10, 10),\n",
    "    'four' : np.random.randint(-5, 10, 10)\n",
    "}\n",
    "\n",
    "df_color = pd.DataFrame(data_color)\n",
    "\n",
    "display(\n",
    "    df_color.style.set_caption('Test Random Number').applymap(negative_bg)\n",
    ")\n"
   ]
  },
  {
   "cell_type": "code",
   "execution_count": null,
   "metadata": {},
   "outputs": [],
   "source": []
  }
 ],
 "metadata": {
  "kernelspec": {
   "display_name": "Python 3",
   "language": "python",
   "name": "python3"
  },
  "language_info": {
   "codemirror_mode": {
    "name": "ipython",
    "version": 3
   },
   "file_extension": ".py",
   "mimetype": "text/x-python",
   "name": "python",
   "nbconvert_exporter": "python",
   "pygments_lexer": "ipython3",
   "version": "3.9.1"
  }
 },
 "nbformat": 4,
 "nbformat_minor": 4
}
