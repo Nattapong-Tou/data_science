{
 "cells": [
  {
   "cell_type": "code",
   "execution_count": 2,
   "metadata": {},
   "outputs": [
    {
     "name": "stdout",
     "output_type": "stream",
     "text": [
      "Show data from Dataframe\n",
      "                  title price\n",
      "0          Data Science   400\n",
      "1              Database   500\n",
      "2              Big Data   600\n",
      "3  Python Data Analysis   700\n"
     ]
    }
   ],
   "source": [
    "import pandas as pd\n",
    "import numpy as np\n",
    "\n",
    "data = {'title':['Data Science', 'Database', 'Big Data', 'Python Data Analysis'],\n",
    "    'price':['400', '500', '600', '700']\n",
    "}\n",
    "\n",
    "df = pd.DataFrame(data)\n",
    "\n",
    "print('Show data from Dataframe')\n",
    "print(df)"
   ]
  },
  {
   "cell_type": "code",
   "execution_count": 3,
   "metadata": {},
   "outputs": [
    {
     "name": "stdout",
     "output_type": "stream",
     "text": [
      "Search word start with Data\n",
      "          title price\n",
      "0  Data Science   400\n",
      "1      Database   500\n",
      "Search word end with Data\n",
      "                  title price\n",
      "3  Python Data Analysis   700\n",
      "                  title price\n",
      "0          Data Science   400\n",
      "1              Database   500\n",
      "2              Big Data   600\n",
      "3  Python Data Analysis   700\n",
      "                  title price\n",
      "0          DATA SCIENCE   400\n",
      "1              DATABASE   500\n",
      "2              BIG DATA   600\n",
      "3  PYTHON DATA ANALYSIS   700\n",
      "                  title price\n",
      "0          Info Science   400\n",
      "1              Infobase   500\n",
      "2              Big Info   600\n",
      "3  Python Info Analysis   700\n"
     ]
    }
   ],
   "source": [
    "df1 = df[df.title.str.startswith('Data')] # หากต้องการค้าหาคำที่ขึ้นต้นด้วย Data ใช้ startswith ตัวอักษรตัวเล็กตัวใหญ่สำคัญ\n",
    "print('Search word start with Data')\n",
    "print(df1)\n",
    "\n",
    "df2 = df[df['title'].str.endswith('sis')] # หากต้องการค้าหาคำที่ลงท้าย ใช้ endswith ตัวอักษรตัวเล็กตัวใหญ่สำคัญ\n",
    "print('Search word end with Data')\n",
    "print(df2)\n",
    "\n",
    "df3 = df[df['title'].str.find('Data') != -1] #ค้นหา title ที่มีคำว่า Data อยู่\n",
    "print(df3)\n",
    "\n",
    "df_upper = pd.DataFrame(data)\n",
    "df_upper.title = df_upper['title'].str.upper() #เปลี่ยน title เป็ฯตัวใหญ่ทั้งหมด\n",
    "print(df_upper)\n",
    "\n",
    "df_replace = pd.DataFrame(data)\n",
    "df_replace.title = df_replace['title'].str.replace('Data', 'Info')\n",
    "print(df_replace)"
   ]
  },
  {
   "cell_type": "code",
   "execution_count": null,
   "metadata": {},
   "outputs": [],
   "source": []
  }
 ],
 "metadata": {
  "kernelspec": {
   "display_name": "Python 3.9.1 64-bit ('venv')",
   "metadata": {
    "interpreter": {
     "hash": "ba84fb57360ff91298d1208dfeeb17ce31ad7e72fa6a61ce595dcf29e2f3f2bb"
    }
   },
   "name": "python3"
  },
  "language_info": {
   "codemirror_mode": {
    "name": "ipython",
    "version": 3
   },
   "file_extension": ".py",
   "mimetype": "text/x-python",
   "name": "python",
   "nbconvert_exporter": "python",
   "pygments_lexer": "ipython3",
   "version": "3.8.10"
  },
  "orig_nbformat": 2
 },
 "nbformat": 4,
 "nbformat_minor": 2
}
