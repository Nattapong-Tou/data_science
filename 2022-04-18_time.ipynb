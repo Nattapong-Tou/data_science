{
 "cells": [
  {
   "cell_type": "code",
   "execution_count": 1,
   "metadata": {},
   "outputs": [],
   "source": [
    "from datetime import datetime, date, time, timedelta"
   ]
  },
  {
   "cell_type": "code",
   "execution_count": 2,
   "metadata": {},
   "outputs": [
    {
     "name": "stdout",
     "output_type": "stream",
     "text": [
      "2022-04-21 14:23:08.366772\n",
      "2022-04-21\n",
      "14:23:08.366856\n"
     ]
    }
   ],
   "source": [
    "now = datetime.now()\n",
    "today = date.today()\n",
    "curtime = datetime.now().time()\n",
    "\n",
    "print(now)\n",
    "print(today)\n",
    "print(curtime)\n"
   ]
  },
  {
   "cell_type": "code",
   "execution_count": 6,
   "metadata": {},
   "outputs": [
    {
     "name": "stdout",
     "output_type": "stream",
     "text": [
      "Weekday =>  เสาร์\n",
      "Month =>  กรกฎาคม\n"
     ]
    }
   ],
   "source": [
    "# การใช้ weekday()\n",
    "week_day = ['อาทิตย์','จันทร์','อังคาร','พุธ','พฤหัสบดี','ศุกร์','เสาร์']\n",
    "month = ['มกราคม','กุมภาพันธ์','มีนาคม','เมษายน','พฤษภาคม','มิถุนายน','กรกฎาคม','สิงหาคม','กันยายน','ตุลาคม','พฤศจิกายน','ธันวาคม']\n",
    "\n",
    "d = date(2022, 7, 23)\n",
    "w = d.weekday()\n",
    "\n",
    "if w == 6: # ปกติในลำดับที่ 6 คือวันอาทิตย์ แต่ใน list เราคือวันเสาร์\n",
    "    w = 0  # จึงต้อง set w กลับไปในตำแหน่งที่ 0 ซึ่งก็คือวันอาทิตย์\n",
    "else:\n",
    "    w += 1\n",
    "\n",
    "month_name = month[d.month - 1] # การหาชื่อเดือนต้อง -1 เพราะใน list เราเริ่มต้อนด้วย 0\n",
    "\n",
    "\n",
    "print('Weekday => ', week_day[w]) # แสดงค่าของวันที่ 23/07/2022 มาดูว่าเป็ฯวันอะไร\n",
    "print('Month => ', month_name)"
   ]
  },
  {
   "cell_type": "code",
   "execution_count": 15,
   "metadata": {},
   "outputs": [
    {
     "name": "stdout",
     "output_type": "stream",
     "text": [
      "115 days, 0:00:00\n",
      "จำนวนวันที่ห่างกัน =>  115  วัน\n",
      "จำนวนเดือนที่ห่างกัน =>  3 เดือน\n",
      "25\n",
      "สรุปว่าระหว่าง d1 และ d2 ห่างกัน 3 เดือน 25 วัน\n"
     ]
    }
   ],
   "source": [
    "# การหาระยะห่างของวันเวลา timedelta()\n",
    "d1 = date(2022, 8, 12)\n",
    "d2 = date(2022, 12, 5)\n",
    "delta = d2 - d1 # การหาระยะห่างวันเวลาสามาถนำมาลบกันได้เลย\n",
    "print(delta)\n",
    "\n",
    "days = delta.days\n",
    "print('จำนวนวันที่ห่างกัน => ',days, ' วัน')\n",
    "\n",
    "num_month = days // 30  # หาจำนวนเดือนที่ห่างกัน\n",
    "print('จำนวนเดือนที่ห่างกัน => ', num_month, 'เดือน')\n",
    "\n",
    "num_day = days % 30 # หาจำนวนวันที่เหลือ\n",
    "print(num_day)\n",
    "print(f'สรุปว่าระหว่าง d1 และ d2 ห่างกัน {num_month} เดือน {num_day} วัน')"
   ]
  },
  {
   "cell_type": "code",
   "execution_count": 20,
   "metadata": {},
   "outputs": [
    {
     "name": "stdout",
     "output_type": "stream",
     "text": [
      "วันนี้วันที่ =>  2022-04-21\n",
      "อีก 2 เดือนข้างหน้าจะตรงกับวันที่ =>  2022-06-20\n"
     ]
    }
   ],
   "source": [
    "# การเพิ่มหรือลดวันเวลา\n",
    "from datetime import datetime, date, time, timedelta\n",
    "\n",
    "next_2_month = timedelta(days=60) # อีก 60 วัน\n",
    "next_4_year = timedelta(days=4*365) #อีก 4 ปี\n",
    "last_6_week = timedelta(weeks=-6) # last 6 week\n",
    "next_12_5_hours = timedelta(hours=12.5) # อีก 12.5 ชั่วโมง\n",
    "\n",
    "d_today = date.today()\n",
    "print('วันนี้วันที่ => ', d_today)\n",
    "\n",
    "next_d_today = d_today.__add__(next_2_month) # อีก 2 เดือนข้างหน้า\n",
    "print('อีก 2 เดือนข้างหน้าจะตรงกับวันที่ => ', next_d_today)"
   ]
  }
 ],
 "metadata": {
  "kernelspec": {
   "display_name": "Python 3.8.10 ('venv': venv)",
   "language": "python",
   "name": "python3"
  },
  "language_info": {
   "codemirror_mode": {
    "name": "ipython",
    "version": 3
   },
   "file_extension": ".py",
   "mimetype": "text/x-python",
   "name": "python",
   "nbconvert_exporter": "python",
   "pygments_lexer": "ipython3",
   "version": "3.8.10"
  },
  "vscode": {
   "interpreter": {
    "hash": "96bb47dda2e05508293c9b30255e730dfb8878c31570fdb04c38263fb34a3b73"
   }
  }
 },
 "nbformat": 4,
 "nbformat_minor": 4
}
